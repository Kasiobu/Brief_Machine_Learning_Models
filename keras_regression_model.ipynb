{
 "cells": [
  {
   "cell_type": "markdown",
   "id": "232512f8-fcb2-4b9c-aef6-8a4eb10fcc26",
   "metadata": {},
   "source": [
    "# Keras Regression Model "
   ]
  },
  {
   "cell_type": "code",
   "execution_count": 2,
   "id": "8c0ab0e0-2f6a-4cd4-890a-0de340d1ff34",
   "metadata": {
    "tags": []
   },
   "outputs": [],
   "source": [
    "import pandas as pd\n",
    "import tensorflow as tf\n",
    "from sklearn.model_selection import train_test_split\n",
    "from sklearn.preprocessing import StandardScaler\n",
    "from sklearn.metrics import mean_squared_error\n",
    "from sklearn.preprocessing import LabelEncoder\n",
    "import matplotlib.pyplot as plt\n",
    "import seaborn as sns\n",
    "%matplotlib inline"
   ]
  },
  {
   "cell_type": "code",
   "execution_count": 3,
   "id": "93266b1b-ec6c-4129-b760-8fae920675a2",
   "metadata": {
    "tags": []
   },
   "outputs": [],
   "source": [
    "# Now, set the display parameters\n",
    "pd.set_option('display.max.column', None)"
   ]
  },
  {
   "cell_type": "code",
   "execution_count": 4,
   "id": "4885ce35-fa60-4d06-813f-b321e0b747dd",
   "metadata": {
    "tags": []
   },
   "outputs": [
    {
     "data": {
      "text/html": [
       "<style type=\"\"text/CSS\"\">\n",
       "table.dataframe td, table.dataframe th{\n",
       "    border: 2px red solid !important;\n",
       "    color: lightgray !important;\n",
       "    } \n",
       "</style>\n"
      ],
      "text/plain": [
       "<IPython.core.display.HTML object>"
      ]
     },
     "metadata": {},
     "output_type": "display_data"
    }
   ],
   "source": [
    "%%HTML\n",
    "<style type=\"\"text/CSS\"\">\n",
    "table.dataframe td, table.dataframe th{\n",
    "    border: 2px red solid !important;\n",
    "    color: lightgray !important;\n",
    "    } \n",
    "</style>"
   ]
  },
  {
   "cell_type": "code",
   "execution_count": 5,
   "id": "f2446a59-0df9-4b05-b959-fc2c91dfb869",
   "metadata": {
    "tags": []
   },
   "outputs": [
    {
     "data": {
      "text/html": [
       "<div>\n",
       "<style scoped>\n",
       "    .dataframe tbody tr th:only-of-type {\n",
       "        vertical-align: middle;\n",
       "    }\n",
       "\n",
       "    .dataframe tbody tr th {\n",
       "        vertical-align: top;\n",
       "    }\n",
       "\n",
       "    .dataframe thead th {\n",
       "        text-align: right;\n",
       "    }\n",
       "</style>\n",
       "<table border=\"1\" class=\"dataframe\">\n",
       "  <thead>\n",
       "    <tr style=\"text-align: right;\">\n",
       "      <th></th>\n",
       "      <th>pop2023</th>\n",
       "      <th>pop2022</th>\n",
       "      <th>city</th>\n",
       "      <th>country</th>\n",
       "      <th>growthRate</th>\n",
       "      <th>type</th>\n",
       "      <th>rank</th>\n",
       "    </tr>\n",
       "  </thead>\n",
       "  <tbody>\n",
       "    <tr>\n",
       "      <th>0</th>\n",
       "      <td>37194105</td>\n",
       "      <td>37274002</td>\n",
       "      <td>Tokyo</td>\n",
       "      <td>Japan</td>\n",
       "      <td>-0.0021</td>\n",
       "      <td>w</td>\n",
       "      <td>1</td>\n",
       "    </tr>\n",
       "    <tr>\n",
       "      <th>1</th>\n",
       "      <td>32941309</td>\n",
       "      <td>32065760</td>\n",
       "      <td>Delhi</td>\n",
       "      <td>India</td>\n",
       "      <td>0.0273</td>\n",
       "      <td>w</td>\n",
       "      <td>2</td>\n",
       "    </tr>\n",
       "    <tr>\n",
       "      <th>2</th>\n",
       "      <td>29210808</td>\n",
       "      <td>28516903</td>\n",
       "      <td>Shanghai</td>\n",
       "      <td>China</td>\n",
       "      <td>0.0243</td>\n",
       "      <td>w</td>\n",
       "      <td>3</td>\n",
       "    </tr>\n",
       "    <tr>\n",
       "      <th>3</th>\n",
       "      <td>23209616</td>\n",
       "      <td>22478117</td>\n",
       "      <td>Dhaka</td>\n",
       "      <td>Bangladesh</td>\n",
       "      <td>0.0325</td>\n",
       "      <td>w</td>\n",
       "      <td>4</td>\n",
       "    </tr>\n",
       "    <tr>\n",
       "      <th>4</th>\n",
       "      <td>22619736</td>\n",
       "      <td>22429799</td>\n",
       "      <td>Sao Paulo</td>\n",
       "      <td>Brazil</td>\n",
       "      <td>0.0085</td>\n",
       "      <td>w</td>\n",
       "      <td>5</td>\n",
       "    </tr>\n",
       "  </tbody>\n",
       "</table>\n",
       "</div>"
      ],
      "text/plain": [
       "    pop2023   pop2022       city     country  growthRate type  rank\n",
       "0  37194105  37274002      Tokyo       Japan     -0.0021    w     1\n",
       "1  32941309  32065760      Delhi       India      0.0273    w     2\n",
       "2  29210808  28516903   Shanghai       China      0.0243    w     3\n",
       "3  23209616  22478117      Dhaka  Bangladesh      0.0325    w     4\n",
       "4  22619736  22429799  Sao Paulo      Brazil      0.0085    w     5"
      ]
     },
     "execution_count": 5,
     "metadata": {},
     "output_type": "execute_result"
    }
   ],
   "source": [
    "# Print data\n",
    "df = pd.read_csv('C:/Users/peace/dash/data/world_city_population.csv')\n",
    "df.head()"
   ]
  },
  {
   "cell_type": "code",
   "execution_count": 6,
   "id": "736dce4c-24c9-4c7f-bc82-2ebed4733cb1",
   "metadata": {
    "tags": []
   },
   "outputs": [],
   "source": [
    "df.drop('rank', axis=1, inplace=True)"
   ]
  },
  {
   "cell_type": "code",
   "execution_count": 7,
   "id": "11f311b5-8e84-4e5e-8975-b364b8af26ff",
   "metadata": {
    "tags": []
   },
   "outputs": [
    {
     "name": "stdout",
     "output_type": "stream",
     "text": [
      "<class 'pandas.core.frame.DataFrame'>\n",
      "RangeIndex: 778 entries, 0 to 777\n",
      "Data columns (total 6 columns):\n",
      " #   Column      Non-Null Count  Dtype  \n",
      "---  ------      --------------  -----  \n",
      " 0   pop2023     778 non-null    int64  \n",
      " 1   pop2022     778 non-null    int64  \n",
      " 2   city        778 non-null    object \n",
      " 3   country     778 non-null    object \n",
      " 4   growthRate  778 non-null    float64\n",
      " 5   type        778 non-null    object \n",
      "dtypes: float64(1), int64(2), object(3)\n",
      "memory usage: 36.6+ KB\n"
     ]
    }
   ],
   "source": [
    "df.info()"
   ]
  },
  {
   "cell_type": "code",
   "execution_count": 8,
   "id": "09921825-8f4c-4f94-a80e-096e10c97499",
   "metadata": {
    "tags": []
   },
   "outputs": [],
   "source": [
    "#F1 = df[['pop2022', 'pop2023']]\n",
    "#F1.describe()"
   ]
  },
  {
   "cell_type": "code",
   "execution_count": 9,
   "id": "c293ac50-40f1-4130-bdb0-71eea0c22b02",
   "metadata": {
    "tags": []
   },
   "outputs": [
    {
     "data": {
      "text/html": [
       "<div>\n",
       "<style scoped>\n",
       "    .dataframe tbody tr th:only-of-type {\n",
       "        vertical-align: middle;\n",
       "    }\n",
       "\n",
       "    .dataframe tbody tr th {\n",
       "        vertical-align: top;\n",
       "    }\n",
       "\n",
       "    .dataframe thead th {\n",
       "        text-align: right;\n",
       "    }\n",
       "</style>\n",
       "<table border=\"1\" class=\"dataframe\">\n",
       "  <thead>\n",
       "    <tr style=\"text-align: right;\">\n",
       "      <th></th>\n",
       "      <th>pop2023</th>\n",
       "      <th>pop2022</th>\n",
       "      <th>growthRate</th>\n",
       "    </tr>\n",
       "  </thead>\n",
       "  <tbody>\n",
       "    <tr>\n",
       "      <th>count</th>\n",
       "      <td>7.780000e+02</td>\n",
       "      <td>7.780000e+02</td>\n",
       "      <td>778.000000</td>\n",
       "    </tr>\n",
       "    <tr>\n",
       "      <th>mean</th>\n",
       "      <td>2.658927e+06</td>\n",
       "      <td>2.607826e+06</td>\n",
       "      <td>0.020758</td>\n",
       "    </tr>\n",
       "    <tr>\n",
       "      <th>std</th>\n",
       "      <td>3.700349e+06</td>\n",
       "      <td>3.638665e+06</td>\n",
       "      <td>0.013135</td>\n",
       "    </tr>\n",
       "    <tr>\n",
       "      <th>min</th>\n",
       "      <td>7.500970e+05</td>\n",
       "      <td>7.231140e+05</td>\n",
       "      <td>-0.034800</td>\n",
       "    </tr>\n",
       "    <tr>\n",
       "      <th>25%</th>\n",
       "      <td>9.921812e+05</td>\n",
       "      <td>9.657890e+05</td>\n",
       "      <td>0.012625</td>\n",
       "    </tr>\n",
       "    <tr>\n",
       "      <th>50%</th>\n",
       "      <td>1.381252e+06</td>\n",
       "      <td>1.362342e+06</td>\n",
       "      <td>0.019950</td>\n",
       "    </tr>\n",
       "    <tr>\n",
       "      <th>75%</th>\n",
       "      <td>2.607130e+06</td>\n",
       "      <td>2.548158e+06</td>\n",
       "      <td>0.028675</td>\n",
       "    </tr>\n",
       "    <tr>\n",
       "      <th>max</th>\n",
       "      <td>3.719410e+07</td>\n",
       "      <td>3.727400e+07</td>\n",
       "      <td>0.061100</td>\n",
       "    </tr>\n",
       "  </tbody>\n",
       "</table>\n",
       "</div>"
      ],
      "text/plain": [
       "            pop2023       pop2022  growthRate\n",
       "count  7.780000e+02  7.780000e+02  778.000000\n",
       "mean   2.658927e+06  2.607826e+06    0.020758\n",
       "std    3.700349e+06  3.638665e+06    0.013135\n",
       "min    7.500970e+05  7.231140e+05   -0.034800\n",
       "25%    9.921812e+05  9.657890e+05    0.012625\n",
       "50%    1.381252e+06  1.362342e+06    0.019950\n",
       "75%    2.607130e+06  2.548158e+06    0.028675\n",
       "max    3.719410e+07  3.727400e+07    0.061100"
      ]
     },
     "execution_count": 9,
     "metadata": {},
     "output_type": "execute_result"
    }
   ],
   "source": [
    "df.describe()"
   ]
  },
  {
   "cell_type": "code",
   "execution_count": 10,
   "id": "e6f8f99c-b1d7-4dc1-8830-ae91ca4022e5",
   "metadata": {
    "tags": []
   },
   "outputs": [
    {
     "data": {
      "text/plain": [
       "<seaborn.axisgrid.FacetGrid at 0x18424307a50>"
      ]
     },
     "execution_count": 10,
     "metadata": {},
     "output_type": "execute_result"
    },
    {
     "data": {
      "image/png": "[encoded data removed]",
      "text/plain": [
       "<Figure size 500x500 with 1 Axes>"
      ]
     },
     "metadata": {},
     "output_type": "display_data"
    },
    {
     "data": {
      "image/png": "[encoded data removed]",
      "text/plain": [
       "<Figure size 500x500 with 1 Axes>"
      ]
     },
     "metadata": {},
     "output_type": "display_data"
    }
   ],
   "source": [
    "#plt.figure(figsize=(9, 5))\n",
    "sns.displot(df, x=\"pop2022\", color='b', bins=60, alpha=0.4, rug=True, kde=True)\n",
    "sns.displot(df, x=\"pop2023\", color='g', bins=60, alpha=0.4, rug=True, kde=True)"
   ]
  },
  {
   "cell_type": "code",
   "execution_count": 11,
   "id": "9cc7f3bb-54f4-4933-95c7-3b6f23a64cd5",
   "metadata": {
    "tags": []
   },
   "outputs": [
    {
     "data": {
      "text/html": [
       "<div>\n",
       "<style scoped>\n",
       "    .dataframe tbody tr th:only-of-type {\n",
       "        vertical-align: middle;\n",
       "    }\n",
       "\n",
       "    .dataframe tbody tr th {\n",
       "        vertical-align: top;\n",
       "    }\n",
       "\n",
       "    .dataframe thead th {\n",
       "        text-align: right;\n",
       "    }\n",
       "</style>\n",
       "<table border=\"1\" class=\"dataframe\">\n",
       "  <thead>\n",
       "    <tr style=\"text-align: right;\">\n",
       "      <th></th>\n",
       "      <th>pop2023</th>\n",
       "      <th>pop2022</th>\n",
       "      <th>growthRate</th>\n",
       "    </tr>\n",
       "  </thead>\n",
       "  <tbody>\n",
       "    <tr>\n",
       "      <th>0</th>\n",
       "      <td>37194105</td>\n",
       "      <td>37274002</td>\n",
       "      <td>-0.0021</td>\n",
       "    </tr>\n",
       "    <tr>\n",
       "      <th>1</th>\n",
       "      <td>32941309</td>\n",
       "      <td>32065760</td>\n",
       "      <td>0.0273</td>\n",
       "    </tr>\n",
       "    <tr>\n",
       "      <th>2</th>\n",
       "      <td>29210808</td>\n",
       "      <td>28516903</td>\n",
       "      <td>0.0243</td>\n",
       "    </tr>\n",
       "    <tr>\n",
       "      <th>3</th>\n",
       "      <td>23209616</td>\n",
       "      <td>22478117</td>\n",
       "      <td>0.0325</td>\n",
       "    </tr>\n",
       "    <tr>\n",
       "      <th>4</th>\n",
       "      <td>22619736</td>\n",
       "      <td>22429799</td>\n",
       "      <td>0.0085</td>\n",
       "    </tr>\n",
       "  </tbody>\n",
       "</table>\n",
       "</div>"
      ],
      "text/plain": [
       "    pop2023   pop2022  growthRate\n",
       "0  37194105  37274002     -0.0021\n",
       "1  32941309  32065760      0.0273\n",
       "2  29210808  28516903      0.0243\n",
       "3  23209616  22478117      0.0325\n",
       "4  22619736  22429799      0.0085"
      ]
     },
     "execution_count": 11,
     "metadata": {},
     "output_type": "execute_result"
    }
   ],
   "source": [
    "df_T = df.select_dtypes(include = ['float64', 'int64'])\n",
    "df_T.head()"
   ]
  },
  {
   "cell_type": "code",
   "execution_count": 12,
   "id": "cc832f01-a1e7-4b7b-ba52-ccd2e81cb0b0",
   "metadata": {
    "tags": []
   },
   "outputs": [
    {
     "data": {
      "image/png": "[encoded data removed]",
      "text/plain": [
       "<Figure size 800x700 with 4 Axes>"
      ]
     },
     "metadata": {},
     "output_type": "display_data"
    }
   ],
   "source": [
    "df_T.hist(figsize=(8, 7), bins=50, xlabelsize=8, ylabelsize=8);"
   ]
  },
  {
   "cell_type": "code",
   "execution_count": 13,
   "id": "7260dce1-f998-4b40-98cc-39d851ab05da",
   "metadata": {
    "tags": []
   },
   "outputs": [
    {
     "data": {
      "text/plain": [
       "pop2023         int64\n",
       "pop2022         int64\n",
       "city            int32\n",
       "country         int32\n",
       "growthRate    float64\n",
       "type            int32\n",
       "dtype: object"
      ]
     },
     "execution_count": 13,
     "metadata": {},
     "output_type": "execute_result"
    }
   ],
   "source": [
    "# Convert all the categorical values (non numerical) columns into numeric by encoding the categories.\n",
    "var_mod =['city', 'country', 'type']\n",
    "le = LabelEncoder()\n",
    "for i in var_mod:\n",
    "    df[i] = le.fit_transform(df[i])\n",
    "df.dtypes"
   ]
  },
  {
   "cell_type": "code",
   "execution_count": 15,
   "id": "0beb86b6-b6c2-4079-bd3b-4c9c1f2f667c",
   "metadata": {
    "tags": []
   },
   "outputs": [],
   "source": [
    "# prepare and split the data\n",
    "X = df.drop('pop2023', axis=1)\n",
    "y = df['pop2023']\n",
    "\n",
    "X_train, X_test, y_train, y_test = train_test_split(X, y, test_size=0.2, random_state=55)"
   ]
  },
  {
   "cell_type": "code",
   "execution_count": 16,
   "id": "6b66d9f0-cc3a-4aa1-a19b-0d2a44e2618c",
   "metadata": {
    "tags": []
   },
   "outputs": [
    {
     "name": "stdout",
     "output_type": "stream",
     "text": [
      "Test_sise 156. Training_size 622.\n"
     ]
    }
   ],
   "source": [
    "print(\"Test_sise {}. Training_size {}.\".format(len(y_test),len(y_train)))"
   ]
  },
  {
   "cell_type": "code",
   "execution_count": 17,
   "id": "cd49ad89-9853-49b6-9c5a-17fab135c761",
   "metadata": {
    "tags": []
   },
   "outputs": [],
   "source": [
    "# data Standardization\n",
    "scale = StandardScaler()\n",
    "X_train_scaled = scale.fit_transform(X_train)\n",
    "X_test_scaled = scale.transform(X_test)"
   ]
  },
  {
   "cell_type": "code",
   "execution_count": 18,
   "id": "e188aa5d-ab78-46a5-af66-b8ab5e5672bd",
   "metadata": {
    "tags": []
   },
   "outputs": [
    {
     "name": "stdout",
     "output_type": "stream",
     "text": [
      "Epoch 1/100\n",
      "16/16 [==============================] - 1s 15ms/step - loss: 20465907138560.0000 - val_loss: 21904836526080.0000\n",
      "Epoch 2/100\n",
      "16/16 [==============================] - 0s 4ms/step - loss: 20465896652800.0000 - val_loss: 21904823943168.0000\n",
      "Epoch 3/100\n",
      "16/16 [==============================] - 0s 5ms/step - loss: 20465886167040.0000 - val_loss: 21904800874496.0000\n",
      "Epoch 4/100\n",
      "16/16 [==============================] - 0s 5ms/step - loss: 20465861001216.0000 - val_loss: 21904767320064.0000\n",
      "Epoch 5/100\n",
      "16/16 [==============================] - 0s 4ms/step - loss: 20465816961024.0000 - val_loss: 21904712794112.0000\n",
      "Epoch 6/100\n",
      "16/16 [==============================] - 0s 4ms/step - loss: 20465754046464.0000 - val_loss: 21904624713728.0000\n",
      "Epoch 7/100\n",
      "16/16 [==============================] - 0s 4ms/step - loss: 20465657577472.0000 - val_loss: 21904509370368.0000\n",
      "Epoch 8/100\n",
      "16/16 [==============================] - 0s 4ms/step - loss: 20465538039808.0000 - val_loss: 21904345792512.0000\n",
      "Epoch 9/100\n",
      "16/16 [==============================] - 0s 4ms/step - loss: 20465355587584.0000 - val_loss: 21904133980160.0000\n",
      "Epoch 10/100\n",
      "16/16 [==============================] - 0s 4ms/step - loss: 20465118609408.0000 - val_loss: 21903852961792.0000\n",
      "Epoch 11/100\n",
      "16/16 [==============================] - 0s 4ms/step - loss: 20464820813824.0000 - val_loss: 21903475474432.0000\n",
      "Epoch 12/100\n",
      "16/16 [==============================] - 0s 4ms/step - loss: 20464432840704.0000 - val_loss: 21903009906688.0000\n",
      "Epoch 13/100\n",
      "16/16 [==============================] - 0s 4ms/step - loss: 20463956787200.0000 - val_loss: 21902447869952.0000\n",
      "Epoch 14/100\n",
      "16/16 [==============================] - 0s 4ms/step - loss: 20463382167552.0000 - val_loss: 21901795655680.0000\n",
      "Epoch 15/100\n",
      "16/16 [==============================] - 0s 4ms/step - loss: 20462732050432.0000 - val_loss: 21900952600576.0000\n",
      "Epoch 16/100\n",
      "16/16 [==============================] - 0s 4ms/step - loss: 20461882703872.0000 - val_loss: 21900029853696.0000\n",
      "Epoch 17/100\n",
      "16/16 [==============================] - 0s 4ms/step - loss: 20460918013952.0000 - val_loss: 21898987569152.0000\n",
      "Epoch 18/100\n",
      "16/16 [==============================] - 0s 4ms/step - loss: 20459913478144.0000 - val_loss: 21897777512448.0000\n",
      "Epoch 19/100\n",
      "16/16 [==============================] - 0s 4ms/step - loss: 20458804084736.0000 - val_loss: 21896418557952.0000\n",
      "Epoch 20/100\n",
      "16/16 [==============================] - 0s 4ms/step - loss: 20457464004608.0000 - val_loss: 21894948454400.0000\n",
      "Epoch 21/100\n",
      "16/16 [==============================] - 0s 4ms/step - loss: 20455998095360.0000 - val_loss: 21893235081216.0000\n",
      "Epoch 22/100\n",
      "16/16 [==============================] - 0s 4ms/step - loss: 20454320373760.0000 - val_loss: 21891328770048.0000\n",
      "Epoch 23/100\n",
      "16/16 [==============================] - 0s 4ms/step - loss: 20452483268608.0000 - val_loss: 21889244200960.0000\n",
      "Epoch 24/100\n",
      "16/16 [==============================] - 0s 4ms/step - loss: 20450400796672.0000 - val_loss: 21886975082496.0000\n",
      "Epoch 25/100\n",
      "16/16 [==============================] - 0s 4ms/step - loss: 20448259604480.0000 - val_loss: 21884280242176.0000\n",
      "Epoch 26/100\n",
      "16/16 [==============================] - 0s 4ms/step - loss: 20445776576512.0000 - val_loss: 21881470058496.0000\n",
      "Epoch 27/100\n",
      "16/16 [==============================] - 0s 4ms/step - loss: 20443192885248.0000 - val_loss: 21878477422592.0000\n",
      "Epoch 28/100\n",
      "16/16 [==============================] - 0s 4ms/step - loss: 20440223318016.0000 - val_loss: 21875361054720.0000\n",
      "Epoch 29/100\n",
      "16/16 [==============================] - 0s 4ms/step - loss: 20437138407424.0000 - val_loss: 21871942696960.0000\n",
      "Epoch 30/100\n",
      "16/16 [==============================] - 0s 4ms/step - loss: 20434040913920.0000 - val_loss: 21868086034432.0000\n",
      "Epoch 31/100\n",
      "16/16 [==============================] - 0s 4ms/step - loss: 20430238777344.0000 - val_loss: 21864432795648.0000\n",
      "Epoch 32/100\n",
      "16/16 [==============================] - 0s 4ms/step - loss: 20426658938880.0000 - val_loss: 21860100079616.0000\n",
      "Epoch 33/100\n",
      "16/16 [==============================] - 0s 4ms/step - loss: 20422770819072.0000 - val_loss: 21855396167680.0000\n",
      "Epoch 34/100\n",
      "16/16 [==============================] - 0s 4ms/step - loss: 20418341634048.0000 - val_loss: 21850719518720.0000\n",
      "Epoch 35/100\n",
      "16/16 [==============================] - 0s 4ms/step - loss: 20413713219584.0000 - val_loss: 21846063841280.0000\n",
      "Epoch 36/100\n",
      "16/16 [==============================] - 0s 4ms/step - loss: 20409296617472.0000 - val_loss: 21840628023296.0000\n",
      "Epoch 37/100\n",
      "16/16 [==============================] - 0s 4ms/step - loss: 20404043251712.0000 - val_loss: 21835255119872.0000\n",
      "Epoch 38/100\n",
      "16/16 [==============================] - 0s 4ms/step - loss: 20398821343232.0000 - val_loss: 21829471174656.0000\n",
      "Epoch 39/100\n",
      "16/16 [==============================] - 0s 4ms/step - loss: 20393393913856.0000 - val_loss: 21822907088896.0000\n",
      "Epoch 40/100\n",
      "16/16 [==============================] - 0s 4ms/step - loss: 20387540762624.0000 - val_loss: 21816208785408.0000\n",
      "Epoch 41/100\n",
      "16/16 [==============================] - 0s 4ms/step - loss: 20380917956608.0000 - val_loss: 21810017992704.0000\n",
      "Epoch 42/100\n",
      "16/16 [==============================] - 0s 4ms/step - loss: 20374779592704.0000 - val_loss: 21802816372736.0000\n",
      "Epoch 43/100\n",
      "16/16 [==============================] - 0s 4ms/step - loss: 20367907225600.0000 - val_loss: 21795186933760.0000\n",
      "Epoch 44/100\n",
      "16/16 [==============================] - 0s 4ms/step - loss: 20361064218624.0000 - val_loss: 21787102412800.0000\n",
      "Epoch 45/100\n",
      "16/16 [==============================] - 0s 4ms/step - loss: 20353470431232.0000 - val_loss: 21779064029184.0000\n",
      "Epoch 46/100\n",
      "16/16 [==============================] - 0s 4ms/step - loss: 20345627082752.0000 - val_loss: 21770962731008.0000\n",
      "Epoch 47/100\n",
      "16/16 [==============================] - 0s 4ms/step - loss: 20338050072576.0000 - val_loss: 21761879965696.0000\n",
      "Epoch 48/100\n",
      "16/16 [==============================] - 0s 4ms/step - loss: 20329204285440.0000 - val_loss: 21753348751360.0000\n",
      "Epoch 49/100\n",
      "16/16 [==============================] - 0s 4ms/step - loss: 20321419657216.0000 - val_loss: 21743305490432.0000\n",
      "Epoch 50/100\n",
      "16/16 [==============================] - 0s 4ms/step - loss: 20312454332416.0000 - val_loss: 21733308366848.0000\n",
      "Epoch 51/100\n",
      "16/16 [==============================] - 0s 4ms/step - loss: 20302664826880.0000 - val_loss: 21723623718912.0000\n",
      "Epoch 52/100\n",
      "16/16 [==============================] - 0s 4ms/step - loss: 20292967596032.0000 - val_loss: 21713666441216.0000\n",
      "Epoch 53/100\n",
      "16/16 [==============================] - 0s 4ms/step - loss: 20283488468992.0000 - val_loss: 21702404734976.0000\n",
      "Epoch 54/100\n",
      "16/16 [==============================] - 0s 4ms/step - loss: 20272983834624.0000 - val_loss: 21691386298368.0000\n",
      "Epoch 55/100\n",
      "16/16 [==============================] - 0s 4ms/step - loss: 20261908774912.0000 - val_loss: 21679327674368.0000\n",
      "Epoch 56/100\n",
      "16/16 [==============================] - 0s 4ms/step - loss: 20251693547520.0000 - val_loss: 21666457452544.0000\n",
      "Epoch 57/100\n",
      "16/16 [==============================] - 0s 4ms/step - loss: 20239527968768.0000 - val_loss: 21654772121600.0000\n",
      "Epoch 58/100\n",
      "16/16 [==============================] - 0s 4ms/step - loss: 20228230610944.0000 - val_loss: 21642648485888.0000\n",
      "Epoch 59/100\n",
      "16/16 [==============================] - 0s 4ms/step - loss: 20217155551232.0000 - val_loss: 21628786311168.0000\n",
      "Epoch 60/100\n",
      "16/16 [==============================] - 0s 4ms/step - loss: 20204209831936.0000 - val_loss: 21615886729216.0000\n",
      "Epoch 61/100\n",
      "16/16 [==============================] - 0s 4ms/step - loss: 20192199442432.0000 - val_loss: 21601500266496.0000\n",
      "Epoch 62/100\n",
      "16/16 [==============================] - 0s 4ms/step - loss: 20178725240832.0000 - val_loss: 21587820544000.0000\n",
      "Epoch 63/100\n",
      "16/16 [==============================] - 0s 4ms/step - loss: 20165563514880.0000 - val_loss: 21573106925568.0000\n",
      "Epoch 64/100\n",
      "16/16 [==============================] - 0s 5ms/step - loss: 20151403544576.0000 - val_loss: 21558462513152.0000\n",
      "Epoch 65/100\n",
      "16/16 [==============================] - 0s 5ms/step - loss: 20137742696448.0000 - val_loss: 21542096338944.0000\n",
      "Epoch 66/100\n",
      "16/16 [==============================] - 0s 4ms/step - loss: 20122389446656.0000 - val_loss: 21526459973632.0000\n",
      "Epoch 67/100\n",
      "16/16 [==============================] - 0s 4ms/step - loss: 20107459821568.0000 - val_loss: 21510433538048.0000\n",
      "Epoch 68/100\n",
      "16/16 [==============================] - 0s 4ms/step - loss: 20092309995520.0000 - val_loss: 21493507424256.0000\n",
      "Epoch 69/100\n",
      "16/16 [==============================] - 0s 4ms/step - loss: 20076799459328.0000 - val_loss: 21476025565184.0000\n",
      "Epoch 70/100\n",
      "16/16 [==============================] - 0s 4ms/step - loss: 20060307456000.0000 - val_loss: 21458078138368.0000\n",
      "Epoch 71/100\n",
      "16/16 [==============================] - 0s 4ms/step - loss: 20043404410880.0000 - val_loss: 21439746932736.0000\n",
      "Epoch 72/100\n",
      "16/16 [==============================] - 0s 4ms/step - loss: 20025884803072.0000 - val_loss: 21420780290048.0000\n",
      "Epoch 73/100\n",
      "16/16 [==============================] - 0s 4ms/step - loss: 20008474247168.0000 - val_loss: 21401767510016.0000\n",
      "Epoch 74/100\n",
      "16/16 [==============================] - 0s 4ms/step - loss: 19990581346304.0000 - val_loss: 21382530334720.0000\n",
      "Epoch 75/100\n",
      "16/16 [==============================] - 0s 4ms/step - loss: 19973640552448.0000 - val_loss: 21361437179904.0000\n",
      "Epoch 76/100\n",
      "16/16 [==============================] - 0s 4ms/step - loss: 19953430298624.0000 - val_loss: 21341799448576.0000\n",
      "Epoch 77/100\n",
      "16/16 [==============================] - 0s 4ms/step - loss: 19934599970816.0000 - val_loss: 21321287204864.0000\n",
      "Epoch 78/100\n",
      "16/16 [==============================] - 0s 4ms/step - loss: 19914515546112.0000 - val_loss: 21300361822208.0000\n",
      "Epoch 79/100\n",
      "16/16 [==============================] - 0s 4ms/step - loss: 19894198337536.0000 - val_loss: 21279809732608.0000\n",
      "Epoch 80/100\n",
      "16/16 [==============================] - 0s 4ms/step - loss: 19875359621120.0000 - val_loss: 21255973502976.0000\n",
      "Epoch 81/100\n",
      "16/16 [==============================] - 0s 4ms/step - loss: 19852980912128.0000 - val_loss: 21234272174080.0000\n",
      "Epoch 82/100\n",
      "16/16 [==============================] - 0s 5ms/step - loss: 19831162142720.0000 - val_loss: 21210698088448.0000\n",
      "Epoch 83/100\n",
      "16/16 [==============================] - 0s 4ms/step - loss: 19808460472320.0000 - val_loss: 21185280606208.0000\n",
      "Epoch 84/100\n",
      "16/16 [==============================] - 0s 4ms/step - loss: 19785551183872.0000 - val_loss: 21160204959744.0000\n",
      "Epoch 85/100\n",
      "16/16 [==============================] - 0s 4ms/step - loss: 19762780307456.0000 - val_loss: 21135731195904.0000\n",
      "Epoch 86/100\n",
      "16/16 [==============================] - 0s 4ms/step - loss: 19740210757632.0000 - val_loss: 21109365800960.0000\n",
      "Epoch 87/100\n",
      "16/16 [==============================] - 0s 4ms/step - loss: 19716259184640.0000 - val_loss: 21084353069056.0000\n",
      "Epoch 88/100\n",
      "16/16 [==============================] - 0s 4ms/step - loss: 19692597018624.0000 - val_loss: 21059520692224.0000\n",
      "Epoch 89/100\n",
      "16/16 [==============================] - 0s 4ms/step - loss: 19668857257984.0000 - val_loss: 21033300000768.0000\n",
      "Epoch 90/100\n",
      "16/16 [==============================] - 0s 4ms/step - loss: 19644584820736.0000 - val_loss: 21006695530496.0000\n",
      "Epoch 91/100\n",
      "16/16 [==============================] - 0s 4ms/step - loss: 19620366909440.0000 - val_loss: 20979214450688.0000\n",
      "Epoch 92/100\n",
      "16/16 [==============================] - 0s 4ms/step - loss: 19594211229696.0000 - val_loss: 20953371246592.0000\n",
      "Epoch 93/100\n",
      "16/16 [==============================] - 0s 4ms/step - loss: 19569227857920.0000 - val_loss: 20926464786432.0000\n",
      "Epoch 94/100\n",
      "16/16 [==============================] - 0s 4ms/step - loss: 19542627581952.0000 - val_loss: 20897587003392.0000\n",
      "Epoch 95/100\n",
      "16/16 [==============================] - 0s 4ms/step - loss: 19517184933888.0000 - val_loss: 20866614165504.0000\n",
      "Epoch 96/100\n",
      "16/16 [==============================] - 0s 4ms/step - loss: 19488701415424.0000 - val_loss: 20837581193216.0000\n",
      "Epoch 97/100\n",
      "16/16 [==============================] - 0s 4ms/step - loss: 19460834459648.0000 - val_loss: 20809779249152.0000\n",
      "Epoch 98/100\n",
      "16/16 [==============================] - 0s 4ms/step - loss: 19433957359616.0000 - val_loss: 20779271979008.0000\n",
      "Epoch 99/100\n",
      "16/16 [==============================] - 0s 4ms/step - loss: 19406725840896.0000 - val_loss: 20747925848064.0000\n",
      "Epoch 100/100\n",
      "16/16 [==============================] - 0s 4ms/step - loss: 19376203890688.0000 - val_loss: 20718601371648.0000\n"
     ]
    }
   ],
   "source": [
    "# Create and train a Keras regression model\n",
    "model = tf.keras.models.Sequential([\n",
    "    tf.keras.layers.Input(shape=(X_train_scaled.shape[1],)),\n",
    "    tf.keras.layers.Dense(130, activation='relu'),\n",
    "    tf.keras.layers.Dense(67, activation='relu'),\n",
    "    # Output layer\n",
    "    tf.keras.layers.Dense(1)  \n",
    "])\n",
    "\n",
    "model.compile(optimizer='adam', loss='mean_squared_error')\n",
    "\n",
    "# For a better work space epoch is adjusted to 100. It can be increased to equal the numbers of rows. However, \n",
    "# the tweaking optimise the model performance.\n",
    "history = model.fit(X_train_scaled, y_train, epochs=100, batch_size=32, validation_split=0.2)\n",
    "\n",
    "# Adjust the architecture of the neural network, hyperparameters, \n",
    "# and preprocessing steps to optimize the model's performance."
   ]
  },
  {
   "cell_type": "code",
   "execution_count": 34,
   "id": "d22b7b32-df2c-4a96-95e7-f4b124bdd7b8",
   "metadata": {
    "tags": []
   },
   "outputs": [
    {
     "name": "stdout",
     "output_type": "stream",
     "text": [
      "5/5 [==============================] - 0s 2ms/step\n",
      "Mean Squared Error: 19598262708645.023\n"
     ]
    }
   ],
   "source": [
    "# Prediction based on the test data\n",
    "m_predict = model.predict(X_test_scaled)\n",
    "\n",
    "# Evaluate the model\n",
    "mse = mean_squared_error(y_test, m_predict)\n",
    "print(\"Mean Squared Error:\", mse)"
   ]
  },
  {
   "cell_type": "code",
   "execution_count": 36,
   "id": "81059cc9-d27c-4370-b392-d8094b8f9ffc",
   "metadata": {
    "tags": []
   },
   "outputs": [
    {
     "data": {
      "text/html": [
       "<div>\n",
       "<style scoped>\n",
       "    .dataframe tbody tr th:only-of-type {\n",
       "        vertical-align: middle;\n",
       "    }\n",
       "\n",
       "    .dataframe tbody tr th {\n",
       "        vertical-align: top;\n",
       "    }\n",
       "\n",
       "    .dataframe thead th {\n",
       "        text-align: right;\n",
       "    }\n",
       "</style>\n",
       "<table border=\"1\" class=\"dataframe\">\n",
       "  <thead>\n",
       "    <tr style=\"text-align: right;\">\n",
       "      <th></th>\n",
       "      <th>pop2024</th>\n",
       "    </tr>\n",
       "  </thead>\n",
       "  <tbody>\n",
       "    <tr>\n",
       "      <th>0</th>\n",
       "      <td>94542.671875</td>\n",
       "    </tr>\n",
       "    <tr>\n",
       "      <th>1</th>\n",
       "      <td>71373.789062</td>\n",
       "    </tr>\n",
       "  </tbody>\n",
       "</table>\n",
       "</div>"
      ],
      "text/plain": [
       "        pop2024\n",
       "0  94542.671875\n",
       "1  71373.789062"
      ]
     },
     "execution_count": 36,
     "metadata": {},
     "output_type": "execute_result"
    }
   ],
   "source": [
    "# Print\n",
    "output = pd.DataFrame({'pop2024': m_predict.squeeze()})\n",
    "output.head(2)"
   ]
  },
  {
   "cell_type": "code",
   "execution_count": 22,
   "id": "8008ab2b-6f01-48ed-86bb-bab00fc00995",
   "metadata": {
    "tags": []
   },
   "outputs": [
    {
     "data": {
      "image/png": "[encoded data removed]",
      "text/plain": [
       "<Figure size 1100x600 with 1 Axes>"
      ]
     },
     "metadata": {},
     "output_type": "display_data"
    }
   ],
   "source": [
    "# Visualize training history\n",
    "plt.figure(figsize=(11, 6))\n",
    "plt.plot(history.history['loss'], label='Training Loss')\n",
    "plt.plot(history.history['val_loss'], label='Validation Loss')\n",
    "plt.title('Training and Validation Loss')\n",
    "plt.xlabel('Epoch')\n",
    "plt.ylabel('Loss')\n",
    "plt.legend()\n",
    "plt.show()"
   ]
  },
  {
   "cell_type": "code",
   "execution_count": null,
   "id": "5b305a23-67b4-4d04-8643-ce8b50854dc4",
   "metadata": {
    "tags": []
   },
   "outputs": [],
   "source": []
  },
  {
   "cell_type": "markdown",
   "id": "340a3598-e152-4c53-bb32-1998b679594f",
   "metadata": {},
   "source": [
    "#### We normalize the data and establish a Keras regression model incorporating numerous hidden layers. \n",
    "#### The model is configured by compiling it with an optimizer and loss function, after which we proceed to \n",
    "#### train it using the provided training dataset. To gauge the model's effectiveness, we assess its performance\n",
    "#### using the mean squared error metric and graphically depict the progression of its training over time."
   ]
  },
  {
   "cell_type": "code",
   "execution_count": null,
   "id": "b84adf89-985a-411d-aa3d-7e1c30b29b0c",
   "metadata": {},
   "outputs": [],
   "source": []
  }
 ],
 "metadata": {
  "kernelspec": {
   "display_name": "Python 3 (ipykernel)",
   "language": "python",
   "name": "python3"
  },
  "language_info": {
   "codemirror_mode": {
    "name": "ipython",
    "version": 3
   },
   "file_extension": ".py",
   "mimetype": "text/x-python",
   "name": "python",
   "nbconvert_exporter": "python",
   "pygments_lexer": "ipython3",
   "version": "3.11.2"
  }
 },
 "nbformat": 4,
 "nbformat_minor": 5
}
