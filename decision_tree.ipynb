{
 "cells": [
  {
   "cell_type": "code",
   "execution_count": 1,
   "id": "e96e7fff-0fff-460b-9758-903cb05f4b9a",
   "metadata": {
    "tags": []
   },
   "outputs": [],
   "source": [
    "import pandas as pd\n",
    "from sklearn.tree import DecisionTreeClassifier\n",
    "from sklearn.model_selection import train_test_split\n",
    "from sklearn.metrics import accuracy_score, classification_report"
   ]
  },
  {
   "cell_type": "code",
   "execution_count": 2,
   "id": "91614d5d-ce61-46f6-a38b-5f9de05aa538",
   "metadata": {
    "tags": []
   },
   "outputs": [
    {
     "data": {
      "text/html": [
       "<div>\n",
       "<style scoped>\n",
       "    .dataframe tbody tr th:only-of-type {\n",
       "        vertical-align: middle;\n",
       "    }\n",
       "\n",
       "    .dataframe tbody tr th {\n",
       "        vertical-align: top;\n",
       "    }\n",
       "\n",
       "    .dataframe thead th {\n",
       "        text-align: right;\n",
       "    }\n",
       "</style>\n",
       "<table border=\"1\" class=\"dataframe\">\n",
       "  <thead>\n",
       "    <tr style=\"text-align: right;\">\n",
       "      <th></th>\n",
       "      <th>bonus_july</th>\n",
       "      <th>bonus_august</th>\n",
       "      <th>result</th>\n",
       "    </tr>\n",
       "  </thead>\n",
       "  <tbody>\n",
       "    <tr>\n",
       "      <th>0</th>\n",
       "      <td>6.531691</td>\n",
       "      <td>1.427976</td>\n",
       "      <td>False</td>\n",
       "    </tr>\n",
       "    <tr>\n",
       "      <th>1</th>\n",
       "      <td>7.528378</td>\n",
       "      <td>1.821702</td>\n",
       "      <td>False</td>\n",
       "    </tr>\n",
       "  </tbody>\n",
       "</table>\n",
       "</div>"
      ],
      "text/plain": [
       "   bonus_july  bonus_august  result\n",
       "0    6.531691      1.427976   False\n",
       "1    7.528378      1.821702   False"
      ]
     },
     "execution_count": 2,
     "metadata": {},
     "output_type": "execute_result"
    }
   ],
   "source": [
    "# Print data\n",
    "df = pd.read_csv(\"C:/Users/peace/dash/data/bonus.csv\")\n",
    "df.head(2)"
   ]
  },
  {
   "cell_type": "markdown",
   "id": "b3a0fab6-979e-4f6e-bc87-b1f799bc914d",
   "metadata": {},
   "source": [
    "###DECISION TREE: split data into 2, test and train. CREATE Classifier Object with HyperParameters"
   ]
  },
  {
   "cell_type": "code",
   "execution_count": 7,
   "id": "21efb645-9c3f-474e-b937-80d72a1a8c69",
   "metadata": {
    "tags": []
   },
   "outputs": [],
   "source": [
    "# Split data\n",
    "X = df[['bonus_july', 'bonus_august']]\n",
    "y = df['result']\n",
    "\n",
    "X_train, X_test, y_train, y_test = train_test_split(X, y, test_size=0.2, random_state=3025)"
   ]
  },
  {
   "cell_type": "code",
   "execution_count": 8,
   "id": "e9958dfd-1ffd-4b38-a999-52cbb378371b",
   "metadata": {
    "tags": []
   },
   "outputs": [],
   "source": [
    "# Create Decision Tree Classifier object with hyperparameters\n",
    "d_treesifier = DecisionTreeClassifier(\n",
    "    \n",
    "    # Maximum depth of the trees \n",
    "    max_depth = None, \n",
    "    \n",
    "    # Minimum number of samples required to split an internal node\n",
    "    min_samples_split = 2, \n",
    "    \n",
    "    # Minimum number of samples required to be at a leaf node\n",
    "    min_samples_leaf = 1,\n",
    "    \n",
    "    # Random seed for reproducibility\n",
    "    random_state = 3025 \n",
    "   )"
   ]
  },
  {
   "cell_type": "code",
   "execution_count": 5,
   "id": "da02e979-7f4f-44a4-b127-32211b2de52c",
   "metadata": {
    "tags": []
   },
   "outputs": [
    {
     "data": {
      "text/html": [
       "<style>#sk-container-id-1 {color: black;background-color: white;}#sk-container-id-1 pre{padding: 0;}#sk-container-id-1 div.sk-toggleable {background-color: white;}#sk-container-id-1 label.sk-toggleable__label {cursor: pointer;display: block;width: 100%;margin-bottom: 0;padding: 0.3em;box-sizing: border-box;text-align: center;}#sk-container-id-1 label.sk-toggleable__label-arrow:before {content: \"▸\";float: left;margin-right: 0.25em;color: #696969;}#sk-container-id-1 label.sk-toggleable__label-arrow:hover:before {color: black;}#sk-container-id-1 div.sk-estimator:hover label.sk-toggleable__label-arrow:before {color: black;}#sk-container-id-1 div.sk-toggleable__content {max-height: 0;max-width: 0;overflow: hidden;text-align: left;background-color: #f0f8ff;}#sk-container-id-1 div.sk-toggleable__content pre {margin: 0.2em;color: black;border-radius: 0.25em;background-color: #f0f8ff;}#sk-container-id-1 input.sk-toggleable__control:checked~div.sk-toggleable__content {max-height: 200px;max-width: 100%;overflow: auto;}#sk-container-id-1 input.sk-toggleable__control:checked~label.sk-toggleable__label-arrow:before {content: \"▾\";}#sk-container-id-1 div.sk-estimator input.sk-toggleable__control:checked~label.sk-toggleable__label {background-color: #d4ebff;}#sk-container-id-1 div.sk-label input.sk-toggleable__control:checked~label.sk-toggleable__label {background-color: #d4ebff;}#sk-container-id-1 input.sk-hidden--visually {border: 0;clip: rect(1px 1px 1px 1px);clip: rect(1px, 1px, 1px, 1px);height: 1px;margin: -1px;overflow: hidden;padding: 0;position: absolute;width: 1px;}#sk-container-id-1 div.sk-estimator {font-family: monospace;background-color: #f0f8ff;border: 1px dotted black;border-radius: 0.25em;box-sizing: border-box;margin-bottom: 0.5em;}#sk-container-id-1 div.sk-estimator:hover {background-color: #d4ebff;}#sk-container-id-1 div.sk-parallel-item::after {content: \"\";width: 100%;border-bottom: 1px solid gray;flex-grow: 1;}#sk-container-id-1 div.sk-label:hover label.sk-toggleable__label {background-color: #d4ebff;}#sk-container-id-1 div.sk-serial::before {content: \"\";position: absolute;border-left: 1px solid gray;box-sizing: border-box;top: 0;bottom: 0;left: 50%;z-index: 0;}#sk-container-id-1 div.sk-serial {display: flex;flex-direction: column;align-items: center;background-color: white;padding-right: 0.2em;padding-left: 0.2em;position: relative;}#sk-container-id-1 div.sk-item {position: relative;z-index: 1;}#sk-container-id-1 div.sk-parallel {display: flex;align-items: stretch;justify-content: center;background-color: white;position: relative;}#sk-container-id-1 div.sk-item::before, #sk-container-id-1 div.sk-parallel-item::before {content: \"\";position: absolute;border-left: 1px solid gray;box-sizing: border-box;top: 0;bottom: 0;left: 50%;z-index: -1;}#sk-container-id-1 div.sk-parallel-item {display: flex;flex-direction: column;z-index: 1;position: relative;background-color: white;}#sk-container-id-1 div.sk-parallel-item:first-child::after {align-self: flex-end;width: 50%;}#sk-container-id-1 div.sk-parallel-item:last-child::after {align-self: flex-start;width: 50%;}#sk-container-id-1 div.sk-parallel-item:only-child::after {width: 0;}#sk-container-id-1 div.sk-dashed-wrapped {border: 1px dashed gray;margin: 0 0.4em 0.5em 0.4em;box-sizing: border-box;padding-bottom: 0.4em;background-color: white;}#sk-container-id-1 div.sk-label label {font-family: monospace;font-weight: bold;display: inline-block;line-height: 1.2em;}#sk-container-id-1 div.sk-label-container {text-align: center;}#sk-container-id-1 div.sk-container {/* jupyter's `normalize.less` sets `[hidden] { display: none; }` but bootstrap.min.css set `[hidden] { display: none !important; }` so we also need the `!important` here to be able to override the default hidden behavior on the sphinx rendered scikit-learn.org. See: https://github.com/scikit-learn/scikit-learn/issues/21755 */display: inline-block !important;position: relative;}#sk-container-id-1 div.sk-text-repr-fallback {display: none;}</style><div id=\"sk-container-id-1\" class=\"sk-top-container\"><div class=\"sk-text-repr-fallback\"><pre>DecisionTreeClassifier(random_state=3025)</pre><b>In a Jupyter environment, please rerun this cell to show the HTML representation or trust the notebook. <br />On GitHub, the HTML representation is unable to render, please try loading this page with nbviewer.org.</b></div><div class=\"sk-container\" hidden><div class=\"sk-item\"><div class=\"sk-estimator sk-toggleable\"><input class=\"sk-toggleable__control sk-hidden--visually\" id=\"sk-estimator-id-1\" type=\"checkbox\" checked><label for=\"sk-estimator-id-1\" class=\"sk-toggleable__label sk-toggleable__label-arrow\">DecisionTreeClassifier</label><div class=\"sk-toggleable__content\"><pre>DecisionTreeClassifier(random_state=3025)</pre></div></div></div></div></div>"
      ],
      "text/plain": [
       "DecisionTreeClassifier(random_state=3025)"
      ]
     },
     "execution_count": 5,
     "metadata": {},
     "output_type": "execute_result"
    }
   ],
   "source": [
    "# Train Classifier with the training data\n",
    "d_treesifier.fit(X_train, y_train)"
   ]
  },
  {
   "cell_type": "code",
   "execution_count": 6,
   "id": "1cdd51d6-4e0f-4b41-941f-5c6bd2a01332",
   "metadata": {
    "tags": []
   },
   "outputs": [],
   "source": [
    "# Prediction based on the test data\n",
    "dt_predict = d_treesifier.predict(X_test)"
   ]
  },
  {
   "cell_type": "code",
   "execution_count": 9,
   "id": "800d1562-02c3-4996-92dd-ce50aa06b87b",
   "metadata": {
    "tags": []
   },
   "outputs": [],
   "source": [
    "# Evaluate model's accuracy on other metrics\n",
    "model_accuracy = accuracy_score(y_test, dt_predict)"
   ]
  },
  {
   "cell_type": "code",
   "execution_count": 10,
   "id": "efa88318-def6-47d3-966d-8a435980db7d",
   "metadata": {
    "tags": []
   },
   "outputs": [],
   "source": [
    "# Classification Report\n",
    "c_report = classification_report(y_test, dt_predict)"
   ]
  },
  {
   "cell_type": "code",
   "execution_count": 15,
   "id": "d3c4f285-7fe9-4571-b2dc-e1a7293e9461",
   "metadata": {
    "tags": []
   },
   "outputs": [
    {
     "name": "stdout",
     "output_type": "stream",
     "text": [
      "_____________________________________________________\n",
      "Decision Tree Model Accuracy: \n",
      "0.95\n",
      "_____________________________________________________\n",
      "Classificiation Report: \n",
      "              precision    recall  f1-score   support\n",
      "\n",
      "       False       0.96      0.96      0.96        81\n",
      "        True       0.92      0.92      0.92        39\n",
      "\n",
      "    accuracy                           0.95       120\n",
      "   macro avg       0.94      0.94      0.94       120\n",
      "weighted avg       0.95      0.95      0.95       120\n",
      "\n",
      "_____________________________________________________\n"
     ]
    }
   ],
   "source": [
    "# Print result\n",
    "print(\"_____________________________________________________\")\n",
    "print(\"Decision Tree Model Accuracy: \",)\n",
    "print(model_accuracy)\n",
    "print(\"_____________________________________________________\")\n",
    "print(\"Classificiation Report: \",) \n",
    "print(c_report)\n",
    "print(\"_____________________________________________________\")"
   ]
  },
  {
   "cell_type": "markdown",
   "id": "785931fc-a5d6-4c84-8bed-b920cb9542a8",
   "metadata": {},
   "source": [
    "##### We compared the readings of RANDOM FOREST in our previous lesson to DECISION TREE using the same dataset.\n",
    "##### Similar to the Random Forest file, we split the data into training and testing sets, created a Decision Tree Classifier, and trained it on the training data.\n",
    "##### The Decision Tree model achieved an accuracy of 0.95 on the test data while Random Forest has 0.983 score. Random Forest scored a higher than the Decision Tree including in the classification report."
   ]
  },
  {
   "cell_type": "code",
   "execution_count": null,
   "id": "d0cf1d62-3e8f-4a9b-ac0d-d5b48d216368",
   "metadata": {},
   "outputs": [],
   "source": []
  }
 ],
 "metadata": {
  "kernelspec": {
   "display_name": "Python 3 (ipykernel)",
   "language": "python",
   "name": "python3"
  },
  "language_info": {
   "codemirror_mode": {
    "name": "ipython",
    "version": 3
   },
   "file_extension": ".py",
   "mimetype": "text/x-python",
   "name": "python",
   "nbconvert_exporter": "python",
   "pygments_lexer": "ipython3",
   "version": "3.11.2"
  }
 },
 "nbformat": 4,
 "nbformat_minor": 5
}
