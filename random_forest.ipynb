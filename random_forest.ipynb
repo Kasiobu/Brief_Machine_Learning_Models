{
 "cells": [
  {
   "cell_type": "code",
   "execution_count": 1,
   "id": "0e535e2a-48bc-4ca7-a412-4b8b306ea147",
   "metadata": {
    "tags": []
   },
   "outputs": [],
   "source": [
    "import numpy as np\n",
    "import pandas as pd\n",
    "from sklearn.ensemble import RandomForestClassifier\n",
    "from sklearn.model_selection import train_test_split\n",
    "from sklearn.metrics import accuracy_score, classification_report"
   ]
  },
  {
   "cell_type": "markdown",
   "id": "e9439524-1912-4a48-ae29-c83d0722b4ee",
   "metadata": {},
   "source": [
    "### Generating dataset for our MODEL"
   ]
  },
  {
   "cell_type": "code",
   "execution_count": 13,
   "id": "a7f63c03-3df2-4bc1-850c-1bdbd3dd661d",
   "metadata": {
    "tags": []
   },
   "outputs": [
    {
     "data": {
      "text/html": [
       "<div>\n",
       "<style scoped>\n",
       "    .dataframe tbody tr th:only-of-type {\n",
       "        vertical-align: middle;\n",
       "    }\n",
       "\n",
       "    .dataframe tbody tr th {\n",
       "        vertical-align: top;\n",
       "    }\n",
       "\n",
       "    .dataframe thead th {\n",
       "        text-align: right;\n",
       "    }\n",
       "</style>\n",
       "<table border=\"1\" class=\"dataframe\">\n",
       "  <thead>\n",
       "    <tr style=\"text-align: right;\">\n",
       "      <th></th>\n",
       "      <th>bonus_july</th>\n",
       "      <th>bonus_august</th>\n",
       "      <th>result</th>\n",
       "    </tr>\n",
       "  </thead>\n",
       "  <tbody>\n",
       "    <tr>\n",
       "      <th>0</th>\n",
       "      <td>6.531691</td>\n",
       "      <td>1.427976</td>\n",
       "      <td>False</td>\n",
       "    </tr>\n",
       "    <tr>\n",
       "      <th>1</th>\n",
       "      <td>7.528378</td>\n",
       "      <td>1.821702</td>\n",
       "      <td>False</td>\n",
       "    </tr>\n",
       "  </tbody>\n",
       "</table>\n",
       "</div>"
      ],
      "text/plain": [
       "   bonus_july  bonus_august  result\n",
       "0    6.531691      1.427976   False\n",
       "1    7.528378      1.821702   False"
      ]
     },
     "execution_count": 13,
     "metadata": {},
     "output_type": "execute_result"
    }
   ],
   "source": [
    "# Define random seed (reproducibility)\n",
    "np.random.seed(3025)\n",
    "\n",
    "# Define data size\n",
    "sample_size = 600\n",
    "\n",
    "# Set column elements, a and b\n",
    "a = np.random.normal(loc=8, scale=2, size=sample_size)\n",
    "b = np.random.normal(loc=2, scale=1, size=sample_size)\n",
    "\n",
    "# Create a ondition for our target variable\n",
    "output = (a + b ) > 11\n",
    "\n",
    "# create dataframe with the elements\n",
    "df = pd.DataFrame({'bonus_july': a, 'bonus_august': b, 'result': output})\n",
    "df.head(2)"
   ]
  },
  {
   "cell_type": "code",
   "execution_count": 7,
   "id": "e8336c77-8260-4a9f-8159-3e86e2dd2ba8",
   "metadata": {
    "tags": []
   },
   "outputs": [
    {
     "data": {
      "text/plain": [
       "<bound method DataFrame.info of      bonus_june  bonus_August  result\n",
       "0      6.531691      1.427976   False\n",
       "1      7.528378      1.821702   False\n",
       "2     14.524738      3.044921    True\n",
       "3      8.459988      2.399132   False\n",
       "4      7.452589      2.529509   False\n",
       "..          ...           ...     ...\n",
       "595   11.108997      1.993962    True\n",
       "596   10.927098      1.116994    True\n",
       "597   14.189641      2.244087    True\n",
       "598    7.778402      3.035820   False\n",
       "599    8.969353      3.500759    True\n",
       "\n",
       "[600 rows x 3 columns]>"
      ]
     },
     "execution_count": 7,
     "metadata": {},
     "output_type": "execute_result"
    }
   ],
   "source": [
    "df.info"
   ]
  },
  {
   "cell_type": "code",
   "execution_count": null,
   "id": "f7492672-9a12-4ffb-ba9e-3eeecdcf035f",
   "metadata": {
    "tags": []
   },
   "outputs": [],
   "source": []
  },
  {
   "cell_type": "markdown",
   "id": "6f2259d8-d9a9-4fb7-a2a9-9c63356e79e0",
   "metadata": {},
   "source": [
    "### RANDOM FOREST: now SPLIT data into 2, test and train. CREATE Classifier Object with HyperParameters"
   ]
  },
  {
   "cell_type": "code",
   "execution_count": 23,
   "id": "69e1b164-77ae-4c5d-bf99-68963e89abd8",
   "metadata": {
    "tags": []
   },
   "outputs": [],
   "source": [
    "# Split data\n",
    "X = df[['bonus_july', 'bonus_august']]\n",
    "y = df['result']\n",
    "\n",
    "X_train, X_test, y_train, y_test = train_test_split(x, y, test_size=0.2, random_state=3025)"
   ]
  },
  {
   "cell_type": "code",
   "execution_count": 26,
   "id": "e5530c33-4e6c-48d6-8936-e9828ffc1de9",
   "metadata": {
    "tags": []
   },
   "outputs": [],
   "source": [
    "# Classifier\n",
    "r_foresifier = RandomForestClassifier(\n",
    "    # Number of decision trees\n",
    "    n_estimators = 60,\n",
    "    \n",
    "    # Maximum depth of the trees \n",
    "    max_depth = None, \n",
    "    \n",
    "    # Minimum number of samples required to split an internal node\n",
    "    min_samples_split = 2, \n",
    "    \n",
    "    # Minimum number of samples required to be at a leaf node\n",
    "    min_samples_leaf = 1,\n",
    "    \n",
    "    # Random seed for reproducibility\n",
    "    random_state = 3025        \n",
    ")"
   ]
  },
  {
   "cell_type": "code",
   "execution_count": 27,
   "id": "95cb2c18-5221-4c79-89df-d637642a5566",
   "metadata": {
    "tags": []
   },
   "outputs": [
    {
     "data": {
      "text/html": [
       "<style>#sk-container-id-2 {color: black;background-color: white;}#sk-container-id-2 pre{padding: 0;}#sk-container-id-2 div.sk-toggleable {background-color: white;}#sk-container-id-2 label.sk-toggleable__label {cursor: pointer;display: block;width: 100%;margin-bottom: 0;padding: 0.3em;box-sizing: border-box;text-align: center;}#sk-container-id-2 label.sk-toggleable__label-arrow:before {content: \"▸\";float: left;margin-right: 0.25em;color: #696969;}#sk-container-id-2 label.sk-toggleable__label-arrow:hover:before {color: black;}#sk-container-id-2 div.sk-estimator:hover label.sk-toggleable__label-arrow:before {color: black;}#sk-container-id-2 div.sk-toggleable__content {max-height: 0;max-width: 0;overflow: hidden;text-align: left;background-color: #f0f8ff;}#sk-container-id-2 div.sk-toggleable__content pre {margin: 0.2em;color: black;border-radius: 0.25em;background-color: #f0f8ff;}#sk-container-id-2 input.sk-toggleable__control:checked~div.sk-toggleable__content {max-height: 200px;max-width: 100%;overflow: auto;}#sk-container-id-2 input.sk-toggleable__control:checked~label.sk-toggleable__label-arrow:before {content: \"▾\";}#sk-container-id-2 div.sk-estimator input.sk-toggleable__control:checked~label.sk-toggleable__label {background-color: #d4ebff;}#sk-container-id-2 div.sk-label input.sk-toggleable__control:checked~label.sk-toggleable__label {background-color: #d4ebff;}#sk-container-id-2 input.sk-hidden--visually {border: 0;clip: rect(1px 1px 1px 1px);clip: rect(1px, 1px, 1px, 1px);height: 1px;margin: -1px;overflow: hidden;padding: 0;position: absolute;width: 1px;}#sk-container-id-2 div.sk-estimator {font-family: monospace;background-color: #f0f8ff;border: 1px dotted black;border-radius: 0.25em;box-sizing: border-box;margin-bottom: 0.5em;}#sk-container-id-2 div.sk-estimator:hover {background-color: #d4ebff;}#sk-container-id-2 div.sk-parallel-item::after {content: \"\";width: 100%;border-bottom: 1px solid gray;flex-grow: 1;}#sk-container-id-2 div.sk-label:hover label.sk-toggleable__label {background-color: #d4ebff;}#sk-container-id-2 div.sk-serial::before {content: \"\";position: absolute;border-left: 1px solid gray;box-sizing: border-box;top: 0;bottom: 0;left: 50%;z-index: 0;}#sk-container-id-2 div.sk-serial {display: flex;flex-direction: column;align-items: center;background-color: white;padding-right: 0.2em;padding-left: 0.2em;position: relative;}#sk-container-id-2 div.sk-item {position: relative;z-index: 1;}#sk-container-id-2 div.sk-parallel {display: flex;align-items: stretch;justify-content: center;background-color: white;position: relative;}#sk-container-id-2 div.sk-item::before, #sk-container-id-2 div.sk-parallel-item::before {content: \"\";position: absolute;border-left: 1px solid gray;box-sizing: border-box;top: 0;bottom: 0;left: 50%;z-index: -1;}#sk-container-id-2 div.sk-parallel-item {display: flex;flex-direction: column;z-index: 1;position: relative;background-color: white;}#sk-container-id-2 div.sk-parallel-item:first-child::after {align-self: flex-end;width: 50%;}#sk-container-id-2 div.sk-parallel-item:last-child::after {align-self: flex-start;width: 50%;}#sk-container-id-2 div.sk-parallel-item:only-child::after {width: 0;}#sk-container-id-2 div.sk-dashed-wrapped {border: 1px dashed gray;margin: 0 0.4em 0.5em 0.4em;box-sizing: border-box;padding-bottom: 0.4em;background-color: white;}#sk-container-id-2 div.sk-label label {font-family: monospace;font-weight: bold;display: inline-block;line-height: 1.2em;}#sk-container-id-2 div.sk-label-container {text-align: center;}#sk-container-id-2 div.sk-container {/* jupyter's `normalize.less` sets `[hidden] { display: none; }` but bootstrap.min.css set `[hidden] { display: none !important; }` so we also need the `!important` here to be able to override the default hidden behavior on the sphinx rendered scikit-learn.org. See: https://github.com/scikit-learn/scikit-learn/issues/21755 */display: inline-block !important;position: relative;}#sk-container-id-2 div.sk-text-repr-fallback {display: none;}</style><div id=\"sk-container-id-2\" class=\"sk-top-container\"><div class=\"sk-text-repr-fallback\"><pre>RandomForestClassifier(n_estimators=60, random_state=3025)</pre><b>In a Jupyter environment, please rerun this cell to show the HTML representation or trust the notebook. <br />On GitHub, the HTML representation is unable to render, please try loading this page with nbviewer.org.</b></div><div class=\"sk-container\" hidden><div class=\"sk-item\"><div class=\"sk-estimator sk-toggleable\"><input class=\"sk-toggleable__control sk-hidden--visually\" id=\"sk-estimator-id-2\" type=\"checkbox\" checked><label for=\"sk-estimator-id-2\" class=\"sk-toggleable__label sk-toggleable__label-arrow\">RandomForestClassifier</label><div class=\"sk-toggleable__content\"><pre>RandomForestClassifier(n_estimators=60, random_state=3025)</pre></div></div></div></div></div>"
      ],
      "text/plain": [
       "RandomForestClassifier(n_estimators=60, random_state=3025)"
      ]
     },
     "execution_count": 27,
     "metadata": {},
     "output_type": "execute_result"
    }
   ],
   "source": [
    "# Train Classifier with the training data\n",
    "r_foresifier.fit(x_train, y_train)"
   ]
  },
  {
   "cell_type": "code",
   "execution_count": 28,
   "id": "dd9550cc-b8f3-4bb1-8dba-f989ec1bac4a",
   "metadata": {
    "tags": []
   },
   "outputs": [],
   "source": [
    "# Prediction based on the test data\n",
    "rf_predict = r_foresifier.predict(X_test)"
   ]
  },
  {
   "cell_type": "code",
   "execution_count": 31,
   "id": "8b48488c-d95d-4c05-9b87-460aaafe1455",
   "metadata": {
    "tags": []
   },
   "outputs": [],
   "source": [
    "# Evaluate model's accuracy on other metrics\n",
    "m_accuracy = accuracy_score(y_test, rf_predict)\n",
    "\n",
    "# Classification Report\n",
    "c_report = classification_report(y_test, rf_predict)"
   ]
  },
  {
   "cell_type": "code",
   "execution_count": 45,
   "id": "5335c504-a6dd-4746-b8fb-2f5d9c42ae20",
   "metadata": {
    "tags": []
   },
   "outputs": [
    {
     "name": "stdout",
     "output_type": "stream",
     "text": [
      "Random Forest Model Accuracy: \n",
      "0.9833333333333333\n",
      "Classificiation Report: \n",
      "              precision    recall  f1-score   support\n",
      "\n",
      "       False       0.98      1.00      0.99        81\n",
      "        True       1.00      0.95      0.97        39\n",
      "\n",
      "    accuracy                           0.98       120\n",
      "   macro avg       0.99      0.97      0.98       120\n",
      "weighted avg       0.98      0.98      0.98       120\n",
      "\n"
     ]
    }
   ],
   "source": [
    "# Print result\n",
    "print(\"Random Forest Model Accuracy: \",)\n",
    "print(m_accuracy)\n",
    "print(\"Classificiation Report: \",) \n",
    "print(c_report)"
   ]
  },
  {
   "cell_type": "code",
   "execution_count": null,
   "id": "402d2185-ea55-4026-ab00-fbaf20f472ea",
   "metadata": {},
   "outputs": [],
   "source": []
  },
  {
   "cell_type": "markdown",
   "id": "bcaaf0d7-7aab-4aeb-8c60-4cc588ccab7e",
   "metadata": {},
   "source": [
    "##### Splitted the dataset into training and testing sets, created a Random Forest Classifier with 60 decision trees and trained it on the training data. The model achieved an accuracy of 0.983 on the test data.\n",
    "##### The classification reports a comprehensive evaluation of the model's performance such as precision, recall, and F1-score for each class (False and True), including their average."
   ]
  },
  {
   "cell_type": "code",
   "execution_count": null,
   "id": "abe91c8d-e389-4bc6-98c0-21217fba7988",
   "metadata": {},
   "outputs": [],
   "source": []
  }
 ],
 "metadata": {
  "kernelspec": {
   "display_name": "Python 3 (ipykernel)",
   "language": "python",
   "name": "python3"
  },
  "language_info": {
   "codemirror_mode": {
    "name": "ipython",
    "version": 3
   },
   "file_extension": ".py",
   "mimetype": "text/x-python",
   "name": "python",
   "nbconvert_exporter": "python",
   "pygments_lexer": "ipython3",
   "version": "3.11.2"
  }
 },
 "nbformat": 4,
 "nbformat_minor": 5
}
